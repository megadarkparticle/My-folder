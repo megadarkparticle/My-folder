{
  "nbformat": 4,
  "nbformat_minor": 0,
  "metadata": {
    "colab": {
      "name": "monitor_training.ipynb",
      "version": "0.3.2",
      "provenance": [],
      "collapsed_sections": [],
      "include_colab_link": true
    },
    "kernelspec": {
      "name": "python3",
      "display_name": "Python 3"
    }
  },
  "cells": [
    {
      "cell_type": "markdown",
      "metadata": {
        "id": "view-in-github",
        "colab_type": "text"
      },
      "source": [
        "<a href=\"https://colab.research.google.com/github/megadarkparticle/My-folder/blob/master/monitor_training.ipynb\" target=\"_parent\"><img src=\"https://colab.research.google.com/assets/colab-badge.svg\" alt=\"Open In Colab\"/></a>"
      ]
    },
    {
      "metadata": {
        "id": "hyyN-2qyK_T2",
        "colab_type": "text"
      },
      "cell_type": "markdown",
      "source": [
        "# Stable Baselines, a Fork of OpenAI Baselines - Monitor Training and Plotting\n",
        "\n",
        "Github Repo: [https://github.com/hill-a/stable-baselines](https://github.com/hill-a/stable-baselines)\n",
        "\n",
        "Medium article: [https://medium.com/@araffin/stable-baselines-a-fork-of-openai-baselines-df87c4b2fc82](https://medium.com/@araffin/stable-baselines-a-fork-of-openai-baselines-df87c4b2fc82)\n",
        "\n",
        "## Install Dependencies and Stable Baselines Using Pip\n",
        "\n",
        "List of full dependencies can be found in the [README](https://github.com/hill-a/stable-baselines).\n",
        "\n",
        "```\n",
        "\n",
        "sudo apt-get update && sudo apt-get install cmake libopenmpi-dev zlib1g-dev\n",
        "```\n",
        "\n",
        "\n",
        "```\n",
        "\n",
        "pip install stable-baselines\n",
        "```"
      ]
    },
    {
      "metadata": {
        "id": "gWskDE2c9WoN",
        "colab_type": "code",
        "colab": {}
      },
      "cell_type": "code",
      "source": [
        "!apt install swig cmake libopenmpi-dev zlib1g-dev\n",
        "!pip install stable-baselines==2.2.0 box2d box2d-kengz"
      ],
      "execution_count": 0,
      "outputs": []
    },
    {
      "metadata": {
        "id": "FtY8FhliLsGm",
        "colab_type": "text"
      },
      "cell_type": "markdown",
      "source": [
        "## Import policy, RL agent, Wrappers"
      ]
    },
    {
      "metadata": {
        "id": "BIedd7Pz9sOs",
        "colab_type": "code",
        "colab": {}
      },
      "cell_type": "code",
      "source": [
        "import os\n",
        "\n",
        "import gym\n",
        "import numpy as np\n",
        "import matplotlib.pyplot as plt\n",
        "\n",
        "from stable_baselines.ddpg.policies import MlpPolicy\n",
        "from stable_baselines.common.vec_env.dummy_vec_env import DummyVecEnv\n",
        "from stable_baselines.bench import Monitor\n",
        "from stable_baselines.results_plotter import load_results, ts2xy\n",
        "from stable_baselines import DDPG\n",
        "from stable_baselines.ddpg.noise import AdaptiveParamNoiseSpec"
      ],
      "execution_count": 0,
      "outputs": []
    },
    {
      "metadata": {
        "id": "RapkYvTXL7Cd",
        "colab_type": "text"
      },
      "cell_type": "markdown",
      "source": [
        "## Define a Callback Function\n"
      ]
    },
    {
      "metadata": {
        "id": "pUWGZp3i9wyf",
        "colab_type": "code",
        "colab": {}
      },
      "cell_type": "code",
      "source": [
        "best_mean_reward, n_steps = -np.inf, 0\n",
        "\n",
        "def callback(_locals, _globals):\n",
        "    \"\"\"\n",
        "    Callback called at each step (for DQN an others) or after n steps (see ACER or PPO2)\n",
        "    :param _locals: (dict)\n",
        "    :param _globals: (dict)\n",
        "    \"\"\"\n",
        "    global n_steps, best_mean_reward\n",
        "    # Print stats every 1000 calls\n",
        "    if (n_steps + 1) % 1000 == 0:\n",
        "        # Evaluate policy performance\n",
        "        x, y = ts2xy(load_results(log_dir), 'timesteps')\n",
        "        if len(x) > 0:\n",
        "            mean_reward = np.mean(y[-100:])\n",
        "            print(x[-1], 'timesteps')\n",
        "            print(\"Best mean reward: {:.2f} - Last mean reward per episode: {:.2f}\".format(best_mean_reward, mean_reward))\n",
        "\n",
        "            # New best model, you could save the agent here\n",
        "            if mean_reward > best_mean_reward:\n",
        "                best_mean_reward = mean_reward\n",
        "                # Example for saving best model\n",
        "                print(\"Saving new best model\")\n",
        "                _locals['self'].save(log_dir + 'best_model.pkl')\n",
        "    n_steps += 1\n",
        "    return False"
      ],
      "execution_count": 0,
      "outputs": []
    },
    {
      "metadata": {
        "id": "7c8VHsiXC7dL",
        "colab_type": "text"
      },
      "cell_type": "markdown",
      "source": [
        "## Create and wrap the environment\n",
        "\n",
        "We will be using Lunar Lander environment with continuous actions"
      ]
    },
    {
      "metadata": {
        "id": "kmxIq5UeC3Nj",
        "colab_type": "code",
        "outputId": "39875845-a4e4-4fbc-937d-0cc692e548b7",
        "colab": {
          "base_uri": "https://localhost:8080/",
          "height": 53
        }
      },
      "cell_type": "code",
      "source": [
        "# Create log dir\n",
        "log_dir = \"/tmp/gym/\"\n",
        "os.makedirs(log_dir, exist_ok=True)\n",
        "\n",
        "# Create and wrap the environment\n",
        "env = gym.make('LunarLanderContinuous-v2')\n",
        "# Logs will be saved in log_dir/monitor.csv\n",
        "env = Monitor(env, log_dir, allow_early_resets=True)\n",
        "env = DummyVecEnv([lambda: env])"
      ],
      "execution_count": 0,
      "outputs": [
        {
          "output_type": "stream",
          "text": [
            "\u001b[33mWARN: gym.spaces.Box autodetected dtype as <class 'numpy.float32'>. Please provide explicit dtype.\u001b[0m\n",
            "\u001b[33mWARN: gym.spaces.Box autodetected dtype as <class 'numpy.float32'>. Please provide explicit dtype.\u001b[0m\n"
          ],
          "name": "stdout"
        }
      ]
    },
    {
      "metadata": {
        "id": "80OxZ_uMDd4J",
        "colab_type": "text"
      },
      "cell_type": "markdown",
      "source": [
        "## Define and train the DDPG agent"
      ]
    },
    {
      "metadata": {
        "id": "iaOPfOrwWEP4",
        "colab_type": "code",
        "outputId": "1b5eb89b-dff6-4174-a50c-45eeb43e5b1b",
        "colab": {
          "base_uri": "https://localhost:8080/",
          "height": 4178
        }
      },
      "cell_type": "code",
      "source": [
        "# Add some param noise for exploration\n",
        "param_noise = AdaptiveParamNoiseSpec(initial_stddev=0.2, desired_action_stddev=0.2)\n",
        "\n",
        "model = DDPG(MlpPolicy, env, param_noise=param_noise, memory_limit=int(1e6), verbose=0)\n",
        "# Train the agent\n",
        "model.learn(total_timesteps=100000, callback=callback)"
      ],
      "execution_count": 0,
      "outputs": [
        {
          "output_type": "stream",
          "text": [
            "997 timesteps\n",
            "Best mean reward: -inf - Last mean reward per episode: -405.72\n",
            "Saving new best model\n",
            "1993 timesteps\n",
            "Best mean reward: -405.72 - Last mean reward per episode: -446.07\n",
            "2985 timesteps\n",
            "Best mean reward: -405.72 - Last mean reward per episode: -488.84\n",
            "3945 timesteps\n",
            "Best mean reward: -405.72 - Last mean reward per episode: -477.20\n",
            "4967 timesteps\n",
            "Best mean reward: -405.72 - Last mean reward per episode: -495.76\n",
            "5934 timesteps\n",
            "Best mean reward: -405.72 - Last mean reward per episode: -494.47\n",
            "6970 timesteps\n",
            "Best mean reward: -405.72 - Last mean reward per episode: -470.39\n",
            "7983 timesteps\n",
            "Best mean reward: -405.72 - Last mean reward per episode: -455.32\n",
            "8940 timesteps\n",
            "Best mean reward: -405.72 - Last mean reward per episode: -421.83\n",
            "9995 timesteps\n",
            "Best mean reward: -405.72 - Last mean reward per episode: -384.75\n",
            "Saving new best model\n",
            "10952 timesteps\n",
            "Best mean reward: -384.75 - Last mean reward per episode: -350.51\n",
            "Saving new best model\n",
            "11965 timesteps\n",
            "Best mean reward: -350.51 - Last mean reward per episode: -301.20\n",
            "Saving new best model\n",
            "12989 timesteps\n",
            "Best mean reward: -301.20 - Last mean reward per episode: -267.55\n",
            "Saving new best model\n",
            "13958 timesteps\n",
            "Best mean reward: -267.55 - Last mean reward per episode: -249.34\n",
            "Saving new best model\n",
            "14901 timesteps\n",
            "Best mean reward: -249.34 - Last mean reward per episode: -236.75\n",
            "Saving new best model\n",
            "15956 timesteps\n",
            "Best mean reward: -236.75 - Last mean reward per episode: -229.60\n",
            "Saving new best model\n",
            "16946 timesteps\n",
            "Best mean reward: -229.60 - Last mean reward per episode: -215.47\n",
            "Saving new best model\n",
            "17999 timesteps\n",
            "Best mean reward: -215.47 - Last mean reward per episode: -204.78\n",
            "Saving new best model\n",
            "18986 timesteps\n",
            "Best mean reward: -204.78 - Last mean reward per episode: -203.74\n",
            "Saving new best model\n",
            "19978 timesteps\n",
            "Best mean reward: -203.74 - Last mean reward per episode: -200.30\n",
            "Saving new best model\n",
            "20939 timesteps\n",
            "Best mean reward: -200.30 - Last mean reward per episode: -196.65\n",
            "Saving new best model\n",
            "21961 timesteps\n",
            "Best mean reward: -196.65 - Last mean reward per episode: -193.47\n",
            "Saving new best model\n",
            "22963 timesteps\n",
            "Best mean reward: -193.47 - Last mean reward per episode: -188.42\n",
            "Saving new best model\n",
            "23968 timesteps\n",
            "Best mean reward: -188.42 - Last mean reward per episode: -188.64\n",
            "24944 timesteps\n",
            "Best mean reward: -188.42 - Last mean reward per episode: -187.85\n",
            "Saving new best model\n",
            "25943 timesteps\n",
            "Best mean reward: -187.85 - Last mean reward per episode: -186.80\n",
            "Saving new best model\n",
            "26977 timesteps\n",
            "Best mean reward: -186.80 - Last mean reward per episode: -183.81\n",
            "Saving new best model\n",
            "27971 timesteps\n",
            "Best mean reward: -183.81 - Last mean reward per episode: -182.33\n",
            "Saving new best model\n",
            "28935 timesteps\n",
            "Best mean reward: -182.33 - Last mean reward per episode: -181.67\n",
            "Saving new best model\n",
            "29948 timesteps\n",
            "Best mean reward: -181.67 - Last mean reward per episode: -182.29\n",
            "30989 timesteps\n",
            "Best mean reward: -181.67 - Last mean reward per episode: -181.72\n",
            "31949 timesteps\n",
            "Best mean reward: -181.67 - Last mean reward per episode: -180.12\n",
            "Saving new best model\n",
            "32973 timesteps\n",
            "Best mean reward: -180.12 - Last mean reward per episode: -182.83\n",
            "33965 timesteps\n",
            "Best mean reward: -180.12 - Last mean reward per episode: -182.76\n",
            "34995 timesteps\n",
            "Best mean reward: -180.12 - Last mean reward per episode: -181.25\n",
            "35989 timesteps\n",
            "Best mean reward: -180.12 - Last mean reward per episode: -179.60\n",
            "Saving new best model\n",
            "36913 timesteps\n",
            "Best mean reward: -179.60 - Last mean reward per episode: -179.62\n",
            "37930 timesteps\n",
            "Best mean reward: -179.60 - Last mean reward per episode: -176.82\n",
            "Saving new best model\n",
            "38989 timesteps\n",
            "Best mean reward: -176.82 - Last mean reward per episode: -174.88\n",
            "Saving new best model\n",
            "39990 timesteps\n",
            "Best mean reward: -174.88 - Last mean reward per episode: -175.06\n",
            "40924 timesteps\n",
            "Best mean reward: -174.88 - Last mean reward per episode: -174.43\n",
            "Saving new best model\n",
            "41977 timesteps\n",
            "Best mean reward: -174.43 - Last mean reward per episode: -176.79\n",
            "42983 timesteps\n",
            "Best mean reward: -174.43 - Last mean reward per episode: -175.99\n",
            "43994 timesteps\n",
            "Best mean reward: -174.43 - Last mean reward per episode: -176.37\n",
            "44978 timesteps\n",
            "Best mean reward: -174.43 - Last mean reward per episode: -181.30\n",
            "45972 timesteps\n",
            "Best mean reward: -174.43 - Last mean reward per episode: -183.18\n",
            "46990 timesteps\n",
            "Best mean reward: -174.43 - Last mean reward per episode: -182.51\n",
            "47922 timesteps\n",
            "Best mean reward: -174.43 - Last mean reward per episode: -187.82\n",
            "48997 timesteps\n",
            "Best mean reward: -174.43 - Last mean reward per episode: -187.71\n",
            "49966 timesteps\n",
            "Best mean reward: -174.43 - Last mean reward per episode: -188.89\n",
            "50952 timesteps\n",
            "Best mean reward: -174.43 - Last mean reward per episode: -189.66\n",
            "51940 timesteps\n",
            "Best mean reward: -174.43 - Last mean reward per episode: -186.80\n",
            "52957 timesteps\n",
            "Best mean reward: -174.43 - Last mean reward per episode: -185.18\n",
            "53957 timesteps\n",
            "Best mean reward: -174.43 - Last mean reward per episode: -183.23\n",
            "54987 timesteps\n",
            "Best mean reward: -174.43 - Last mean reward per episode: -178.25\n",
            "55951 timesteps\n",
            "Best mean reward: -174.43 - Last mean reward per episode: -176.97\n",
            "56984 timesteps\n",
            "Best mean reward: -174.43 - Last mean reward per episode: -174.86\n",
            "57914 timesteps\n",
            "Best mean reward: -174.43 - Last mean reward per episode: -174.74\n",
            "58931 timesteps\n",
            "Best mean reward: -174.43 - Last mean reward per episode: -173.47\n",
            "Saving new best model\n",
            "59988 timesteps\n",
            "Best mean reward: -173.47 - Last mean reward per episode: -173.12\n",
            "Saving new best model\n",
            "60938 timesteps\n",
            "Best mean reward: -173.12 - Last mean reward per episode: -173.30\n",
            "61971 timesteps\n",
            "Best mean reward: -173.12 - Last mean reward per episode: -175.51\n",
            "62936 timesteps\n",
            "Best mean reward: -173.12 - Last mean reward per episode: -174.52\n",
            "63990 timesteps\n",
            "Best mean reward: -173.12 - Last mean reward per episode: -175.67\n",
            "64920 timesteps\n",
            "Best mean reward: -173.12 - Last mean reward per episode: -174.95\n",
            "65975 timesteps\n",
            "Best mean reward: -173.12 - Last mean reward per episode: -175.95\n",
            "66981 timesteps\n",
            "Best mean reward: -173.12 - Last mean reward per episode: -177.84\n",
            "67934 timesteps\n",
            "Best mean reward: -173.12 - Last mean reward per episode: -177.61\n",
            "68924 timesteps\n",
            "Best mean reward: -173.12 - Last mean reward per episode: -177.43\n",
            "69943 timesteps\n",
            "Best mean reward: -173.12 - Last mean reward per episode: -177.42\n",
            "70943 timesteps\n",
            "Best mean reward: -173.12 - Last mean reward per episode: -175.56\n",
            "71917 timesteps\n",
            "Best mean reward: -173.12 - Last mean reward per episode: -175.25\n",
            "72950 timesteps\n",
            "Best mean reward: -173.12 - Last mean reward per episode: -174.10\n",
            "73936 timesteps\n",
            "Best mean reward: -173.12 - Last mean reward per episode: -173.11\n",
            "Saving new best model\n",
            "74998 timesteps\n",
            "Best mean reward: -173.11 - Last mean reward per episode: -172.09\n",
            "Saving new best model\n",
            "75984 timesteps\n",
            "Best mean reward: -172.09 - Last mean reward per episode: -173.06\n",
            "76952 timesteps\n",
            "Best mean reward: -172.09 - Last mean reward per episode: -172.24\n",
            "77989 timesteps\n",
            "Best mean reward: -172.09 - Last mean reward per episode: -173.06\n",
            "78996 timesteps\n",
            "Best mean reward: -172.09 - Last mean reward per episode: -172.45\n",
            "79972 timesteps\n",
            "Best mean reward: -172.09 - Last mean reward per episode: -173.68\n",
            "80947 timesteps\n",
            "Best mean reward: -172.09 - Last mean reward per episode: -174.26\n",
            "81978 timesteps\n",
            "Best mean reward: -172.09 - Last mean reward per episode: -174.41\n",
            "82934 timesteps\n",
            "Best mean reward: -172.09 - Last mean reward per episode: -173.87\n",
            "83942 timesteps\n",
            "Best mean reward: -172.09 - Last mean reward per episode: -173.11\n",
            "84977 timesteps\n",
            "Best mean reward: -172.09 - Last mean reward per episode: -172.41\n",
            "86000 timesteps\n",
            "Best mean reward: -172.09 - Last mean reward per episode: -172.24\n",
            "86965 timesteps\n",
            "Best mean reward: -172.09 - Last mean reward per episode: -172.48\n",
            "87962 timesteps\n",
            "Best mean reward: -172.09 - Last mean reward per episode: -173.03\n",
            "88983 timesteps\n",
            "Best mean reward: -172.09 - Last mean reward per episode: -172.02\n",
            "Saving new best model\n",
            "89973 timesteps\n",
            "Best mean reward: -172.02 - Last mean reward per episode: -171.67\n",
            "Saving new best model\n",
            "90998 timesteps\n",
            "Best mean reward: -171.67 - Last mean reward per episode: -172.75\n",
            "91946 timesteps\n",
            "Best mean reward: -171.67 - Last mean reward per episode: -173.56\n",
            "92985 timesteps\n",
            "Best mean reward: -171.67 - Last mean reward per episode: -173.17\n",
            "93980 timesteps\n",
            "Best mean reward: -171.67 - Last mean reward per episode: -171.05\n",
            "Saving new best model\n",
            "94990 timesteps\n",
            "Best mean reward: -171.05 - Last mean reward per episode: -168.92\n",
            "Saving new best model\n",
            "95943 timesteps\n",
            "Best mean reward: -168.92 - Last mean reward per episode: -170.27\n",
            "96991 timesteps\n",
            "Best mean reward: -168.92 - Last mean reward per episode: -169.91\n",
            "97974 timesteps\n",
            "Best mean reward: -168.92 - Last mean reward per episode: -170.24\n",
            "98965 timesteps\n",
            "Best mean reward: -168.92 - Last mean reward per episode: -170.57\n",
            "99963 timesteps\n",
            "Best mean reward: -168.92 - Last mean reward per episode: -170.20\n"
          ],
          "name": "stdout"
        },
        {
          "output_type": "execute_result",
          "data": {
            "text/plain": [
              "<stable_baselines.ddpg.ddpg.DDPG at 0x7f63420c2358>"
            ]
          },
          "metadata": {
            "tags": []
          },
          "execution_count": 5
        }
      ]
    },
    {
      "metadata": {
        "id": "qQ4bxRQZDuk1",
        "colab_type": "text"
      },
      "cell_type": "markdown",
      "source": [
        "## Plotting helpers"
      ]
    },
    {
      "metadata": {
        "id": "mPXYbV39DiCj",
        "colab_type": "code",
        "colab": {}
      },
      "cell_type": "code",
      "source": [
        "def movingAverage(values, window):\n",
        "    \"\"\"\n",
        "    Smooth values by doing a moving average\n",
        "    :param values: (numpy array)\n",
        "    :param window: (int)\n",
        "    :return: (numpy array)\n",
        "    \"\"\"\n",
        "    weights = np.repeat(1.0, window) / window\n",
        "    return np.convolve(values, weights, 'valid')\n",
        "\n",
        "\n",
        "def plot_results(log_folder, title='Learning Curve'):\n",
        "    \"\"\"\n",
        "    plot the results\n",
        "\n",
        "    :param log_folder: (str) the save location of the results to plot\n",
        "    :param title: (str) the title of the task to plot\n",
        "    \"\"\"\n",
        "    x, y = ts2xy(load_results(log_folder), 'timesteps')\n",
        "    y = movingAverage(y, window=50)\n",
        "    # Truncate x\n",
        "    x = x[len(x) - len(y):]\n",
        "\n",
        "    fig = plt.figure(title)\n",
        "    plt.plot(x, y)\n",
        "    plt.xlabel('Number of Timesteps')\n",
        "    plt.ylabel('Rewards')\n",
        "    plt.title(title + \" Smoothed\")\n",
        "    plt.show()\n"
      ],
      "execution_count": 0,
      "outputs": []
    },
    {
      "metadata": {
        "id": "CQXx7HiSDt7_",
        "colab_type": "code",
        "outputId": "6276c821-374a-4be3-b6c6-0c854a56f279",
        "colab": {
          "base_uri": "https://localhost:8080/",
          "height": 376
        }
      },
      "cell_type": "code",
      "source": [
        "plot_results(log_dir)"
      ],
      "execution_count": 0,
      "outputs": [
        {
          "output_type": "display_data",
          "data": {
            "image/png": "[encoded data removed]",
            "text/plain": [
              "<matplotlib.figure.Figure at 0x7f63420c1b00>"
            ]
          },
          "metadata": {
            "tags": []
          }
        }
      ]
    },
    {
      "metadata": {
        "id": "PQmsSZUHKNRG",
        "colab_type": "code",
        "colab": {}
      },
      "cell_type": "code",
      "source": [
        ""
      ],
      "execution_count": 0,
      "outputs": []
    }
  ]
}